{
 "cells": [
  {
   "cell_type": "markdown",
   "id": "c3b31a4a-3022-4bc3-93de-711ca7db2d04",
   "metadata": {},
   "source": [
    "# Data Science Tools and Ecosystem"
   ]
  },
  {
   "cell_type": "markdown",
   "id": "0b5dfb64-9521-4ecf-b062-49b090bc2af1",
   "metadata": {},
   "source": [
    "In this notebook Data Science Tools and Ecosystem are summarized"
   ]
  },
  {
   "cell_type": "markdown",
   "id": "38e0277d-c25d-44cb-ac97-8278abd78848",
   "metadata": {},
   "source": [
    "Some of the popular languages that Data Scientists use are:\n",
    "1. Python\n",
    "2. R\n",
    "3. Julia\n",
    "4. C++"
   ]
  },
  {
   "cell_type": "markdown",
   "id": "3c52f2b2-2165-45a2-b29a-b16c5e541fc0",
   "metadata": {},
   "source": [
    "Some of the commonly used libraries used by Data Scientists include:\n",
    "1. Numpy\n",
    "2. Pandas\n",
    "3. Matplotlib\n",
    "4. Seaborn\n",
    "5. Scikit-learn"
   ]
  },
  {
   "cell_type": "markdown",
   "id": "ab609de3-d42a-4bdf-a222-0668a03b46b3",
   "metadata": {},
   "source": [
    "|Data Science Tools|\n",
    "--------------------\n",
    "|JupyterLab|\n",
    "|Spyder|\n",
    "|Visual Studio Code|"
   ]
  },
  {
   "cell_type": "markdown",
   "id": "352e644f-2675-4f2d-b072-753bad814f71",
   "metadata": {},
   "source": [
    "### Below are a few examples of evaluating arithmetic expressions in Python"
   ]
  },
  {
   "cell_type": "code",
   "execution_count": 1,
   "id": "1c88edf7-ed1f-4e01-9df2-62a18cea0b8b",
   "metadata": {},
   "outputs": [
    {
     "data": {
      "text/plain": [
       "17"
      ]
     },
     "execution_count": 1,
     "metadata": {},
     "output_type": "execute_result"
    }
   ],
   "source": [
    "# This a simple arithmetic expression to mutiply then add integers\n",
    "(3*4)+5"
   ]
  },
  {
   "cell_type": "code",
   "execution_count": 2,
   "id": "58dbf25d-367b-46f1-a539-75159695cfe2",
   "metadata": {},
   "outputs": [
    {
     "data": {
      "text/plain": [
       "3.3333333333333335"
      ]
     },
     "execution_count": 2,
     "metadata": {},
     "output_type": "execute_result"
    }
   ],
   "source": [
    "# This will convert 200 minutes to hours by diving by 60\n",
    "200/60"
   ]
  },
  {
   "cell_type": "markdown",
   "id": "8a577084-d393-4a38-a5fa-2466a0a913da",
   "metadata": {},
   "source": [
    "**Objectives:**\n",
    "* List of popular libraries in Data Science\n",
    "* List of popular languages for Data Science\n",
    "* How to work with Markdown cells"
   ]
  },
  {
   "cell_type": "markdown",
   "id": "c3b77580-3868-4582-9fd0-e64955991c04",
   "metadata": {},
   "source": [
    "## Author\n",
    "Reza Abedi Ostad"
   ]
  }
 ],
 "metadata": {
  "kernelspec": {
   "display_name": "Python 3 (ipykernel)",
   "language": "python",
   "name": "python3"
  },
  "language_info": {
   "codemirror_mode": {
    "name": "ipython",
    "version": 3
   },
   "file_extension": ".py",
   "mimetype": "text/x-python",
   "name": "python",
   "nbconvert_exporter": "python",
   "pygments_lexer": "ipython3",
   "version": "3.10.9"
  }
 },
 "nbformat": 4,
 "nbformat_minor": 5
}
